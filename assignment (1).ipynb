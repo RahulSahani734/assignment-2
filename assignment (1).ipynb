{
 "cells": [
  {
   "cell_type": "markdown",
   "id": "17a96e47-0a2f-46f0-99f1-e37798fbab8b",
   "metadata": {},
   "source": [
    "Answer = 1"
   ]
  },
  {
   "cell_type": "code",
   "execution_count": 7,
   "id": "b980fdbd-699f-41c3-bd61-964dc8019874",
   "metadata": {},
   "outputs": [
    {
     "name": "stdout",
     "output_type": "stream",
     "text": [
      "('Virat Kohli', 24936)\n",
      "('Jack Kallis', 25534)\n",
      "('Ricky Ponting', 27483)\n",
      "('Sachin Tendulkar', 34357)\n"
     ]
    }
   ],
   "source": [
    "lis = [('Sachin Tendulkar', 34357), ('Ricky Ponting', 27483), ('Jack Kallis', 25534), ('Virat Kohli', 24936)]\n",
    "\n",
    "sorted_data = sorted(lis , key = lambda x:x[1])\n",
    "\n",
    "for i in sorted_data:\n",
    "    print(i)"
   ]
  },
  {
   "cell_type": "markdown",
   "id": "5045f7f4-eedc-4d6e-800b-893a83789c5e",
   "metadata": {},
   "source": []
  },
  {
   "cell_type": "markdown",
   "id": "0b194e78-2998-4520-b193-aca12ff9a8e0",
   "metadata": {},
   "source": [
    "Answer = 2"
   ]
  },
  {
   "cell_type": "code",
   "execution_count": 18,
   "id": "f0561588-2a2e-4b41-8ad2-75838ed1665f",
   "metadata": {},
   "outputs": [],
   "source": [
    "lsi = [1,2,3,4,5,6,7,8,9,10]\n",
    "pow = list(map(lambda a:a**2,lsi))"
   ]
  },
  {
   "cell_type": "code",
   "execution_count": 19,
   "id": "535c7b80-2d8f-43b8-8ae9-9a8973965d5d",
   "metadata": {},
   "outputs": [
    {
     "name": "stdout",
     "output_type": "stream",
     "text": [
      "[1, 4, 9, 16, 25, 36, 49, 64, 81, 100]\n"
     ]
    }
   ],
   "source": [
    "print(pow)"
   ]
  },
  {
   "cell_type": "code",
   "execution_count": null,
   "id": "4f1f1203-b464-4c46-ab97-282d59a2279b",
   "metadata": {},
   "outputs": [],
   "source": []
  },
  {
   "cell_type": "markdown",
   "id": "a451cb9e-0619-4b42-9308-47a382887d12",
   "metadata": {},
   "source": [
    "Answer = 3"
   ]
  },
  {
   "cell_type": "code",
   "execution_count": 6,
   "id": "2ab20d1e-c652-4b7e-b0fc-7597f340fc1f",
   "metadata": {},
   "outputs": [],
   "source": [
    "numbers1 = [1, 2, 3, 4, 5, 6, 7, 8, 9, 10]\n",
    "con_str = tuple(map(lambda a: str(a),numbers1)) "
   ]
  },
  {
   "cell_type": "code",
   "execution_count": 8,
   "id": "ede9519e-6811-4740-85a7-2ca860de6f2f",
   "metadata": {},
   "outputs": [
    {
     "data": {
      "text/plain": [
       "('1', '2', '3', '4', '5', '6', '7', '8', '9', '10')"
      ]
     },
     "execution_count": 8,
     "metadata": {},
     "output_type": "execute_result"
    }
   ],
   "source": [
    "con_str"
   ]
  },
  {
   "cell_type": "code",
   "execution_count": null,
   "id": "cde9ef79-aa75-4c5e-80ba-9f163ee9f756",
   "metadata": {},
   "outputs": [],
   "source": []
  },
  {
   "cell_type": "markdown",
   "id": "be40ef17-d498-489c-981d-b89f8b5db2a5",
   "metadata": {},
   "source": [
    "Answer = 4"
   ]
  },
  {
   "cell_type": "code",
   "execution_count": 12,
   "id": "f4d6e665-0499-4f13-b2c9-05113d9b2ee1",
   "metadata": {},
   "outputs": [
    {
     "name": "stdout",
     "output_type": "stream",
     "text": [
      "15511210043330985984000000\n"
     ]
    }
   ],
   "source": [
    "from functools import reduce \n",
    "num = list(range(1,25+1))\n",
    "productt = reduce(lambda x,z : x*z , num)\n",
    "print(productt)"
   ]
  },
  {
   "cell_type": "code",
   "execution_count": null,
   "id": "2caeff93-ce6c-4742-bc68-c0334fbef12e",
   "metadata": {},
   "outputs": [],
   "source": []
  },
  {
   "cell_type": "code",
   "execution_count": 13,
   "id": "b48558a6-941f-4528-af06-1f0311dbedd9",
   "metadata": {},
   "outputs": [],
   "source": [
    "Answer = 5"
   ]
  },
  {
   "cell_type": "code",
   "execution_count": 20,
   "id": "280c800a-e232-41eb-8e53-798111cb5f5d",
   "metadata": {},
   "outputs": [
    {
     "name": "stdout",
     "output_type": "stream",
     "text": [
      "[6, 60, 90, 120]\n"
     ]
    }
   ],
   "source": [
    "liss = [2, 3, 6, 9, 27, 60, 90, 120, 55, 46]\n",
    "num  = list (filter(lambda x: x%2 == 0 and x % 3 == 0 , liss))\n",
    "print(num )\n",
    " "
   ]
  },
  {
   "cell_type": "code",
   "execution_count": null,
   "id": "5ca5ceef-0e6f-497a-b3ae-4126095a31aa",
   "metadata": {},
   "outputs": [],
   "source": []
  },
  {
   "cell_type": "markdown",
   "id": "d44f0309-91c4-4a67-aa7d-a821863259d3",
   "metadata": {},
   "source": [
    "Answer = 6"
   ]
  },
  {
   "cell_type": "code",
   "execution_count": 21,
   "id": "eb04bb5e-9296-4ef1-9989-994047e92935",
   "metadata": {},
   "outputs": [],
   "source": [
    "strings = ['python', 'php', 'aba', 'radar', 'level']\n",
    "palin = list (filter(lambda a: a[::-1]== a , strings))\n"
   ]
  },
  {
   "cell_type": "code",
   "execution_count": 22,
   "id": "877c7520-c9b1-4582-ae36-c071b368b7e9",
   "metadata": {},
   "outputs": [
    {
     "data": {
      "text/plain": [
       "['php', 'aba', 'radar', 'level']"
      ]
     },
     "execution_count": 22,
     "metadata": {},
     "output_type": "execute_result"
    }
   ],
   "source": [
    "palin"
   ]
  },
  {
   "cell_type": "code",
   "execution_count": null,
   "id": "78d4914e-63eb-400c-8e5a-bd4875d2a4e0",
   "metadata": {},
   "outputs": [],
   "source": []
  }
 ],
 "metadata": {
  "kernelspec": {
   "display_name": "Python 3 (ipykernel)",
   "language": "python",
   "name": "python3"
  },
  "language_info": {
   "codemirror_mode": {
    "name": "ipython",
    "version": 3
   },
   "file_extension": ".py",
   "mimetype": "text/x-python",
   "name": "python",
   "nbconvert_exporter": "python",
   "pygments_lexer": "ipython3",
   "version": "3.10.8"
  }
 },
 "nbformat": 4,
 "nbformat_minor": 5
}
